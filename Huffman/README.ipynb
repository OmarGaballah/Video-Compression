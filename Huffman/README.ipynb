{
 "cells": [
  {
   "cell_type": "code",
   "execution_count": 1,
   "id": "e3d68dc4",
   "metadata": {},
   "outputs": [],
   "source": [
    "from huffman_node import * \n",
    "from min_heap import * \n"
   ]
  },
  {
   "cell_type": "markdown",
   "id": "f048ce8e",
   "metadata": {},
   "source": [
    "## Q1: \n",
    "* Summary \n",
    "    - The avg code length is 4.2119 \n",
    "    - While the entropy is 4.1814\n"
   ]
  },
  {
   "cell_type": "markdown",
   "id": "2a84ede1",
   "metadata": {},
   "source": [
    "First we want to turn the frequencies into probabilites."
   ]
  },
  {
   "cell_type": "code",
   "execution_count": 2,
   "id": "9fbfeb32",
   "metadata": {},
   "outputs": [
    {
     "data": {
      "text/plain": [
       "'\\nsum_ = 0\\nfor sym,freq in eng_char__freq:\\n    sum_+=freq\\n\\nfor i,(sym,freq) in enumerate(eng_char__freq): \\n    eng_char__freq[i]= (sym,freq/sum_) \\n'"
      ]
     },
     "execution_count": 2,
     "metadata": {},
     "output_type": "execute_result"
    }
   ],
   "source": [
    "eng_char__freq= [(\"E\", 12.02),(\"T\",9.10),(\"A\",8.12),(\"O\",7.68),(\"I\",7.31),\\\n",
    "    (\"N\",6.95),(\"S\",6.28),(\"R\",6.02),(\"H\",5.92),(\"D\",4.32),(\"L\",3.98),\\\n",
    "    (\"U\",2.88),(\"C\",2.71),(\"M\",2.61),(\"F\",2.30),(\"Y\",2.11),(\"W\",2.09),\\\n",
    "    (\"G\",2.03),(\"P\",1.82),(\"B\",1.49),(\"V\",1.11),(\"K\",0.69),(\"X\",0.17),\\\n",
    "    (\"Q\",0.11),(\"J\",0.10),(\"Z\",0.07)]\n",
    "\n",
    "'''\n",
    "sum_ = 0\n",
    "for sym,freq in eng_char__freq:\n",
    "    sum_+=freq\n",
    "\n",
    "for i,(sym,freq) in enumerate(eng_char__freq): \n",
    "    eng_char__freq[i]= (sym,freq/sum_) \n",
    "'''\n"
   ]
  },
  {
   "cell_type": "code",
   "execution_count": 3,
   "id": "639f01f0",
   "metadata": {},
   "outputs": [],
   "source": [
    "heap_ = minHeap()\n",
    "    \n",
    "# construct the min heap to\n",
    "# arrange sybols ascending according to\n",
    "# thier freq\n",
    "for (symbol,freq) in  eng_char__freq: \n",
    "        heap_.push_(Huff_node(symbol,freq))\n",
    "\n",
    "# after having all the huffman nodes inserted in head\n",
    "# we will start to build the tree\n",
    "heap_.normalize()\n",
    "head = tree_builder(heap_)    "
   ]
  },
  {
   "cell_type": "code",
   "execution_count": 4,
   "id": "45c93b77",
   "metadata": {},
   "outputs": [
    {
     "name": "stdout",
     "output_type": "stream",
     "text": [
      "symbol: T , freq: 0.09101, encoding: 111\n",
      "symbol: Y , freq: 0.02110, encoding: 11011\n",
      "symbol: V , freq: 0.01110, encoding: 110101\n",
      "symbol: Z , freq: 0.00070, encoding: 110100111\n",
      "symbol: J , freq: 0.00100, encoding: 110100110\n",
      "symbol: Q , freq: 0.00110, encoding: 110100101\n",
      "symbol: X , freq: 0.00170, encoding: 110100100\n",
      "symbol: K , freq: 0.00690, encoding: 1101000\n",
      "symbol: F , freq: 0.02300, encoding: 11001\n",
      "symbol: M , freq: 0.02610, encoding: 11000\n",
      "symbol: C , freq: 0.02710, encoding: 10111\n",
      "symbol: U , freq: 0.02880, encoding: 10110\n",
      "symbol: H , freq: 0.05921, encoding: 1010\n",
      "symbol: E , freq: 0.12021, encoding: 100\n",
      "symbol: R , freq: 0.06021, encoding: 0111\n",
      "symbol: S , freq: 0.06281, encoding: 0110\n",
      "symbol: N , freq: 0.06951, encoding: 0101\n",
      "symbol: B , freq: 0.01490, encoding: 010011\n",
      "symbol: P , freq: 0.01820, encoding: 010010\n",
      "symbol: L , freq: 0.03980, encoding: 01000\n",
      "symbol: I , freq: 0.07311, encoding: 0011\n",
      "symbol: O , freq: 0.07681, encoding: 0010\n",
      "symbol: A , freq: 0.08121, encoding: 0001\n",
      "symbol: G , freq: 0.02030, encoding: 000011\n",
      "symbol: W , freq: 0.02090, encoding: 000010\n",
      "symbol: D , freq: 0.04320, encoding: 00000\n"
     ]
    }
   ],
   "source": [
    "encoder = Encoder()\n",
    "encoded_list = encoder.encode(head) # now I encoded the list and printing the encoding alonside the frequencies"
   ]
  },
  {
   "cell_type": "code",
   "execution_count": 5,
   "id": "b7cd376e",
   "metadata": {},
   "outputs": [
    {
     "name": "stdout",
     "output_type": "stream",
     "text": [
      "The avg code length is 4.2119 \n",
      " While the entropy is 4.1814\n"
     ]
    }
   ],
   "source": [
    "print(\"The avg code length is %0.4f \\n While the entropy is %0.4f\"\\\n",
    "      %(encoder.avg_code_length(),encoder.entropy()))\n"
   ]
  },
  {
   "cell_type": "markdown",
   "id": "7c71a33b",
   "metadata": {},
   "source": [
    "## Q3:\n"
   ]
  },
  {
   "cell_type": "code",
   "execution_count": 6,
   "id": "3bffd5ec",
   "metadata": {},
   "outputs": [],
   "source": [
    "heap_= minHeap()\n",
    "\n",
    "with open(\"Test1.txt\",'r') as f: \n",
    "    for c in f.read():\n",
    "        heap_.push_(Huff_node(c,1))\n",
    "\n",
    "heap_.normalize()\n",
    "head = tree_builder(heap_) # build huffman's tree\n"
   ]
  },
  {
   "cell_type": "code",
   "execution_count": 12,
   "id": "b3ea44ea",
   "metadata": {},
   "outputs": [
    {
     "name": "stdout",
     "output_type": "stream",
     "text": [
      "symbol: T , freq: 0.10616, encoding: 111\n",
      "symbol: H , freq: 0.05308, encoding: 1101\n",
      "symbol: R , freq: 0.05520, encoding: 1100\n",
      "symbol: E , freq: 0.11040, encoding: 101\n",
      "symbol: G , freq: 0.02760, encoding: 10011\n",
      "symbol: B , freq: 0.01486, encoding: 100101\n",
      "symbol: F , freq: 0.01486, encoding: 100100\n",
      "symbol: I , freq: 0.05945, encoding: 1000\n",
      "symbol: A , freq: 0.11890, encoding: 011\n",
      "symbol: O , freq: 0.05945, encoding: 0101\n",
      "symbol: N , freq: 0.07006, encoding: 0100\n",
      "symbol: S , freq: 0.07006, encoding: 0011\n",
      "symbol: Y , freq: 0.03397, encoding: 00101\n",
      "symbol: M , freq: 0.01699, encoding: 001001\n",
      "symbol: D , freq: 0.01911, encoding: 001000\n",
      "symbol: L , freq: 0.03822, encoding: 00011\n",
      "symbol: Q , freq: 0.00212, encoding: 000101111\n",
      "symbol: J , freq: 0.00212, encoding: 000101110\n",
      "symbol: X , freq: 0.00212, encoding: 000101101\n",
      "symbol: Z , freq: 0.00212, encoding: 000101100\n",
      "symbol: V , freq: 0.01062, encoding: 0001010\n",
      "symbol: C , freq: 0.02123, encoding: 000100\n",
      "symbol: U , freq: 0.04459, encoding: 00001\n",
      "symbol: P , freq: 0.02335, encoding: 000001\n",
      "symbol: K , freq: 0.01062, encoding: 0000001\n",
      "symbol: W , freq: 0.01274, encoding: 0000000\n"
     ]
    }
   ],
   "source": [
    "encoder1 = Encoder()\n",
    "encoded_list1 = encoder1.encode(head) # now I encoded the list and printing the encoding alonside the frequencies"
   ]
  },
  {
   "cell_type": "code",
   "execution_count": 13,
   "id": "6e988423",
   "metadata": {},
   "outputs": [
    {
     "name": "stdout",
     "output_type": "stream",
     "text": [
      "The avg code length is 4.1741 \n",
      " While the entropy is 4.1545\n"
     ]
    }
   ],
   "source": [
    "print(\"The avg code length is %0.4f \\n While the entropy is %0.4f\"\\\n",
    "      %(encoder1.avg_code_length(),encoder1.entropy()))\n"
   ]
  },
  {
   "cell_type": "markdown",
   "id": "870f14ca",
   "metadata": {},
   "source": [
    "## Q4: \n",
    "Comparing the total length of the encoded bits in both cases"
   ]
  },
  {
   "cell_type": "code",
   "execution_count": 18,
   "id": "91451cd1",
   "metadata": {},
   "outputs": [
    {
     "name": "stdout",
     "output_type": "stream",
     "text": [
      "The total encoded lenght for the english characters from cornell is 142 \n",
      " while the total encoded in the text file 146 \n"
     ]
    }
   ],
   "source": [
    "tot_bits= 0\n",
    "tot_bits1= 0\n",
    "\n",
    "for i,v in encoded_list:\n",
    "    tot_bits+= len(v)\n",
    "for i,v in encoded_list1:\n",
    "    tot_bits1+= len(v) \n",
    "print(\"The total encoded lenght for the english characters\" \\\n",
    "      f\" from cornell is {tot_bits} \\n while the total encoded in the text file \"\\\n",
    "     f\"{tot_bits1} \")"
   ]
  },
  {
   "cell_type": "markdown",
   "id": "79903c52",
   "metadata": {},
   "source": [
    "## Q2: \n",
    "Encoding text1 with the encoder of the\n",
    "english characters resulted from the encoder of english character"
   ]
  },
  {
   "cell_type": "code",
   "execution_count": 21,
   "id": "04549bcd",
   "metadata": {},
   "outputs": [
    {
     "data": {
      "text/plain": [
       "{'t': '111',\n",
       " 'y': '11011',\n",
       " 'v': '110101',\n",
       " 'z': '110100111',\n",
       " 'j': '110100110',\n",
       " 'q': '110100101',\n",
       " 'x': '110100100',\n",
       " 'k': '1101000',\n",
       " 'f': '11001',\n",
       " 'm': '11000',\n",
       " 'c': '10111',\n",
       " 'u': '10110',\n",
       " 'h': '1010',\n",
       " 'e': '100',\n",
       " 'r': '0111',\n",
       " 's': '0110',\n",
       " 'n': '0101',\n",
       " 'b': '010011',\n",
       " 'p': '010010',\n",
       " 'l': '01000',\n",
       " 'i': '0011',\n",
       " 'o': '0010',\n",
       " 'a': '0001',\n",
       " 'g': '000011',\n",
       " 'w': '000010',\n",
       " 'd': '00000'}"
      ]
     },
     "execution_count": 21,
     "metadata": {},
     "output_type": "execute_result"
    }
   ],
   "source": [
    "encoded_list\n",
    "mapper= {}\n",
    "for i,v in encoded_list: \n",
    "    mapper[i.lower()] = v\n",
    "mapper"
   ]
  },
  {
   "cell_type": "code",
   "execution_count": 30,
   "id": "9210aaf4",
   "metadata": {},
   "outputs": [],
   "source": [
    "str1= \"\"\n",
    "with open(\"Test1.txt\",'r') as f: \n",
    "    for c in f.read():\n",
    "        str1+=mapper[c.lower()]\n",
    "        "
   ]
  },
  {
   "cell_type": "code",
   "execution_count": 31,
   "id": "ed870124",
   "metadata": {},
   "outputs": [
    {
     "data": {
      "text/plain": [
       "'1111010001101100011011000010100100001011100010000110111000101001010101111010000111110110011010001101001101011000111110110110001101010000110100010001000100111111100011100110101111101010000010100001001010100001010011100111010100100000101111010000111100000001010001100101111110001000001010111110100011011010111000101010100111000001010010000101110001000011011100010100101010000010001111110100101001001101110010011111011010011101101110011111000000010100011011000100000101011111010000111110011010110001111101101100011010100001101000100010001001111111000111001101101011001101000000011011001010110101110001010111000000111010001000011111000101100000111000101100011100111011100100111110010001010110111001111001101100100000010110110110010101100000001000001111010001001101100101011010111000101011110001010001101000000101001100101011011100010101110111111010001101010000111100101110010110001101001011011000110100011101101110010110100110100111011011100101101001001101101000001001001010100010010110001100010101011011100000110100001010100000110110010101101011100010101101100110100000010101000011111001101011000111010000001010100001110110000100001110011011001010110000010000101011111100101110010110000001110010111001111010000001000101010110111001011010011110110010001011011110100011011000110110000101001000010111000100001101110001010010101011110100001111101100110100011010011010110001111101101100011010100001101000100010001001111111000111001101011111010100000101000010010101000010100111001110101001000001011110100001111000000010100011001011111100010000010101111101000110110101110001010101001110000010100100001011100010000110111000101001010100000100011111101001010010011011100100111110110100111011011100111110000000101000110110001000001010111110100001111100110101100011111011011000110101000011010001000100010011111110001110011011010110011010000000110110010101101011100010101110000001110100010000111110001011000001110001011000111001110111001001111100100010101101110011110011011001000000101101101100101011000000'"
      ]
     },
     "execution_count": 31,
     "metadata": {},
     "output_type": "execute_result"
    }
   ],
   "source": [
    "str1"
   ]
  }
 ],
 "metadata": {
  "kernelspec": {
   "display_name": "Python 3 (ipykernel)",
   "language": "python",
   "name": "python3"
  },
  "language_info": {
   "codemirror_mode": {
    "name": "ipython",
    "version": 3
   },
   "file_extension": ".py",
   "mimetype": "text/x-python",
   "name": "python",
   "nbconvert_exporter": "python",
   "pygments_lexer": "ipython3",
   "version": "3.9.12"
  }
 },
 "nbformat": 4,
 "nbformat_minor": 5
}
